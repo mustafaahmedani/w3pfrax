{
 "cells": [
  {
   "cell_type": "code",
   "execution_count": 5,
   "id": "a0031035",
   "metadata": {},
   "outputs": [
    {
     "data": {
      "text/plain": [
       "True"
      ]
     },
     "execution_count": 5,
     "metadata": {},
     "output_type": "execute_result"
    }
   ],
   "source": [
    "from web3 import Web3\n",
    "\n",
    "w3 = Web3(Web3.HTTPProvider('https://mainnet.infura.io/v3/d141b40bc60447fa9cacdc1273bc127f'))\n",
    "\n",
    "w3.isConnected()"
   ]
  },
  {
   "cell_type": "code",
   "execution_count": 6,
   "id": "47333473",
   "metadata": {},
   "outputs": [
    {
     "data": {
      "text/plain": [
       "AttributeDict({'baseFeePerGas': 62427357644,\n",
       " 'difficulty': 13186176408686706,\n",
       " 'extraData': HexBytes('0x73706574683035cc55a74d'),\n",
       " 'gasLimit': 30029238,\n",
       " 'gasUsed': 11244591,\n",
       " 'hash': HexBytes('0x139a01652dfa218c7f89d71694afd675187349d8787e63479fffb4d18a5647e6'),\n",
       " 'logsBloom': HexBytes('0x53eb6302e910c283506007adf6054e052006539508828c04204100c1061c06119f2841830888c8a0024579910362919053a8c4932f00e8002074f920a260b23092044040a22959ec0a83024c403266f24a213140004214d03f493618860d9014120d85002a308241440118d000252cd48650004c10114d74452c21b280591878a520750a0041b4360068a256d1300004008218050184105d2520204c0a14640e070aa2cd0008f852c82b4092a00311c120e30a290110000648238644508c3c3305214743288628c20b71604421cb52401070022043de0c50c610b5062010302300ba676929010c91004cb8004a620982922552222820097284ac485245011681'),\n",
       " 'miner': '0x28846f1Ec065eEa239152213373bb58B1C9Fc93B',\n",
       " 'mixHash': HexBytes('0x7407463b4bc72618a971bfdbb0759c134e7a7fa43e49f16921ba9f97a55df2d3'),\n",
       " 'nonce': HexBytes('0xada6180d774726a6'),\n",
       " 'number': 14580662,\n",
       " 'parentHash': HexBytes('0x19fde877c1942deda6ca1ade7d19f1d31e05bb9c431ebe509858d053b5e067aa'),\n",
       " 'receiptsRoot': HexBytes('0x859b8c02a1169710f960e286e774ce895b9a7696ddf6be06ef755cb90576b7a2'),\n",
       " 'sha3Uncles': HexBytes('0x1dcc4de8dec75d7aab85b567b6ccd41ad312451b948a7413f0a142fd40d49347'),\n",
       " 'size': 65023,\n",
       " 'stateRoot': HexBytes('0xdb345fc48989be3753aeb28075be0f8e6444c159c0bf2117e9aa0c3f6cdead7f'),\n",
       " 'timestamp': 1649900518,\n",
       " 'totalDifficulty': 46306312188809004118428,\n",
       " 'transactions': [HexBytes('0x5f4f26adba7ebd054282cfe3c6be4d8b697550b848445d68a50dcb6b3f212b3c'),\n",
       "  HexBytes('0x01982f378c8587a0f0c1304fe4033108bc4b35e3d67559bd5a16b252c3145e84'),\n",
       "  HexBytes('0x1f21a66791722d0d178bb8ffbb9d5323f0fb9f15c4d12dbf9afc8cf673d00515'),\n",
       "  HexBytes('0x22ab5fb4d90b9e28bae55c2848b2ba0b30171cfd1f2232fa32f3de3f5c8b65b5'),\n",
       "  HexBytes('0x9b27090ea2b647d55bd70d4a8b14dc17702e095355d16d021db7863b516daf12'),\n",
       "  HexBytes('0xb206f73762f8ccb711731b5874ed0759e6d61aec3c3cab3e02554df3754a7884'),\n",
       "  HexBytes('0x0b2b061f8a55dc41544742dbb42901b35fc0028024eda7dabd7dede7406913b7'),\n",
       "  HexBytes('0xfcab426d8695219f105905c5b9550136d7129f849e74fc5443826721de730066'),\n",
       "  HexBytes('0x65b9b61f5de5e6fd56d37a50e26d737a03e3d1eaa95343b51463d1b0f4e378a8'),\n",
       "  HexBytes('0x6f8166c2a9249db7c05577ab6306c718ca3274db1dead64c5564192a3574fee1'),\n",
       "  HexBytes('0xc549fba7e4c4f422ffb6499f692d96af1c1d8d5f2a41d8805aca23e444c54b0d'),\n",
       "  HexBytes('0x2ee07779e25d22bb31a8d49b2ee486e765f75299f86f33f005ff2fc8af96dc44'),\n",
       "  HexBytes('0x41cd4e47d8d5dc14e2a760f6a5a354287c1c66b7d3ba244004f3c55d0cc08ebe'),\n",
       "  HexBytes('0xadb76e46820fa12d2933504abe6a0177e02d1b86b554cf1647de9448cab18f25'),\n",
       "  HexBytes('0x527648296946d27dbce6d72eb7b0f0196072ef1b259f1459cd65041c0c757fd0'),\n",
       "  HexBytes('0xdaebae66558d00aa747b1a375a0767c817f392f86db689b2c53f768a93994a97'),\n",
       "  HexBytes('0xa4ef91d819fe9277fd843d0648d5f9c52c0000f41a155f850a1cefb2e8409756'),\n",
       "  HexBytes('0xc6e7a87d53c67b052dd89455874d46d844204cb838ef593b83088bd9ed019fd7'),\n",
       "  HexBytes('0x819bc2587beb052326087788e8f0e170ec0b0edc87f6178ae5f174b42bb86b04'),\n",
       "  HexBytes('0x72ca5447bc4d37ca4cfc9c5b46c985c695abcc75632e90f5f8d7641456c1fa81'),\n",
       "  HexBytes('0x184a292d5d254f48aa496b226a813143840fcd09c09d2270358b1492815d2635'),\n",
       "  HexBytes('0x8fbad3181b24dc848bcb448d0791729291171fc8b5d6ae07104ecbc261c034c8'),\n",
       "  HexBytes('0x10b4753384961b1e9dea2aae4ec275d0e4ee12d44625e8d280084e85f6420230'),\n",
       "  HexBytes('0x700ea3b00224f295175c1e16c1b3e4f2b69b1ed78d4e8e27a4f2a4dfc627650c'),\n",
       "  HexBytes('0x5fbbc474cb0bbd53c13ca8f81d839362fe42c9a34607e767836f6871d6e5eb33'),\n",
       "  HexBytes('0x1c429745b77ae811a73826277ce7544e453bc7c13fd63675c00e5a94c1cdfd39'),\n",
       "  HexBytes('0xbe518668d733472ae47c898075a000e0e4e2a9fb5cf6b6955ddc270992ae1a80'),\n",
       "  HexBytes('0x90e86ce1617fa09aa60be8b1923255e92d425ae54d2c6b4eb3bf2a29f7904ccc'),\n",
       "  HexBytes('0x498253cf21c21c03437970704de3f2e86f1d272fad05b56ab551323c7d5ab2ea'),\n",
       "  HexBytes('0x2aa175315487bc7009ebfa8b49570a45c5db1732211fdb3cadaa966f62196af3'),\n",
       "  HexBytes('0xadd830b59809ff5860ca28a6c6cfe504adb4b23371cd2ebc1756e90c24fd4683'),\n",
       "  HexBytes('0x6d6ce6c8b2bd891a9f03bcb311db7b7e51c54a74ede42ab275cce1069124298e'),\n",
       "  HexBytes('0x5ac8120a51299033ee0a8a64b48b2d78fd3d49e651b20f52efc95760ae0fcac5'),\n",
       "  HexBytes('0xd33cf4a1fa9da1fe54c008e2e9590b08fbc8a8482d0e8fa671cecbb675097d21'),\n",
       "  HexBytes('0xf13a5e99870c270f383c51328cff83fe428d7529aecb334edfcfbce71a9efe3d'),\n",
       "  HexBytes('0xaa60b317c919da190a7871f29bb3bf89f71e96ae30c3fb159ecc9c4a36544b54'),\n",
       "  HexBytes('0x58db9e0b6bae2a713c19a4ea807af23cfa118be69d907981e6fdfc8dcd8ca509'),\n",
       "  HexBytes('0x59a2ca67693425a1fc49113b4b16293ac10d4a9569f90b1928122c12bfed4069'),\n",
       "  HexBytes('0x2e553aef4ca65cc1e3dc5249dc6d085f39517291da7abe2e39f8ef2eb6eef049'),\n",
       "  HexBytes('0xac009fe17c072c4af7b48db1e058db732e16663c719c34b5c4bdc99898bbc2c9'),\n",
       "  HexBytes('0xa21dff152d7335f030f2269cdd8b3793e34aca47d26572afa38f4e3163f807c1'),\n",
       "  HexBytes('0x5faaaac54d54cb741bd7bda1e99474718a8f13c874c3eeead216e34f6d4067c0'),\n",
       "  HexBytes('0x624c41e2d8b26198bdf1de8692d66116852bc79bffb6123aa0986853c1391722'),\n",
       "  HexBytes('0x05057a915e28f1953211ae32b8fe1c1d5c784c743edcaccc607f98828f15a805'),\n",
       "  HexBytes('0x37ddabe149766d7ef734e7a233221e35a683bee6f4c312a288324cb735f3e0fb'),\n",
       "  HexBytes('0x92938457a9d0e043108ba9b53168606f040d4d9e12cf16ed46f5c814bec43b2a'),\n",
       "  HexBytes('0xf24578022372dfc523eeb4fbc7fd4115cdcea363117c354ede151ed008c4c962'),\n",
       "  HexBytes('0x52d87773579e4081e1a1e9d32de874e6a878689f763b3e3b2248584408b76700'),\n",
       "  HexBytes('0x9fd821bcab3db41cf2a12721df1daa2fd36db575c202a10c7a83ef1938e09c1f'),\n",
       "  HexBytes('0x9ee957efa669078f44cae76eaf4d8daeba0643f0e46b6af117c2a48e19f9ccff'),\n",
       "  HexBytes('0x42fb41373375b427d907ea1b1abc3e801690798dfdad76270c83539f1ca907b0'),\n",
       "  HexBytes('0x3d31d98ec626b152321a04bebf1f3a2e5d0b5e939a1189946267fe67f3a9865f'),\n",
       "  HexBytes('0x06b14871ab0ddccc6060e7484f1b90430963599c339876cea44e647ad5a4f669'),\n",
       "  HexBytes('0x2266fd9ea63f0aa87a5380f9b8a4e364bbf50db949c048b137844980aa4bf647'),\n",
       "  HexBytes('0x0ac4d4731fa8b60d39a2fe7f2d7a16e11b792f3b2afd2322fb1215e22061820b'),\n",
       "  HexBytes('0x7319ffa088610f237b3b8c28138d1e763b3d858793bdb997c1b64dcae25cb1cc'),\n",
       "  HexBytes('0xb27c177033ab27e28d4d0bdd810fd4fd970dba5a1d315569dd0d5522b032b501'),\n",
       "  HexBytes('0x17df90473c510ed2332e3abf47072ccd748894326a916d18f0af8dde6f2798d0'),\n",
       "  HexBytes('0x6fa6d0eab6bda37e90e783d4a55e46efbbbdf77669cbe854ba3e4093b2c669d5'),\n",
       "  HexBytes('0xb51410aa9defd87ad61b2b3c97045922108ca082c2a6728f319db0aa1cc6a8a1'),\n",
       "  HexBytes('0xaf144f3a63e591469b1a608cd69b8840f5c9a6cdfd17d18c1df2e772391ce516'),\n",
       "  HexBytes('0x8e2f0cfbf72533aacaabcc9ea17c8ed7a52bdc1c4e4bbc065caf401402ba174c'),\n",
       "  HexBytes('0xcc07cb790ed8c86c6739984e11e5d0b1f9ba38d3259877d670ea419f9969270f'),\n",
       "  HexBytes('0xa9f5d89370ad9df039614e121e31b15e92ed7b483a31d836bd1b302fc07bb7bd'),\n",
       "  HexBytes('0xee8cd3e34f7f07ecf08d7b2ed120469caa605ff15d5f45493ba752df9b005b60'),\n",
       "  HexBytes('0x7ce136f0b49955b183b7db665cafea5c6ef2b3c15bbc775af8f91877b9f5ec71'),\n",
       "  HexBytes('0x0db8427777fde7ec44cd0951b2234b40a3fa9645664e7631a29171ff1d013b60'),\n",
       "  HexBytes('0x07c995a4205c95a225223cb050591d1f3d5754909a86dc3981ffde12616c2586'),\n",
       "  HexBytes('0xe89f16fd7a43b693546a917693a07929ed021dd28e5eea719eae28d79c9700b3'),\n",
       "  HexBytes('0x56d0a8045c37443707245c2b89907d859ac47e2357bd422bde4703c4869c03a5'),\n",
       "  HexBytes('0x4d45e1927b5ef099259fce68462694517ec92bdbbdd19539ebacd1aedff2894b'),\n",
       "  HexBytes('0xaf141184fc158bd164b42742205b121787952503e53fc2b16f0200a7588d76c0'),\n",
       "  HexBytes('0x5088891fb7451c4d0fb0046a89807c92a5a461383fcaf0cc36fa1d72208f8d4f'),\n",
       "  HexBytes('0xd03776e339df441bc9286cedf53d8d6c23aa9735675272ac181b7db134eeeda1'),\n",
       "  HexBytes('0xae931778e9c8f9b1f558a24be167e719ccdc739f11782cf85ea7aa4da0d76877'),\n",
       "  HexBytes('0x88e7b2d7e575e23cad1b4b5462fd63ed330fcc69eb74ca0d5ffae29f71400078'),\n",
       "  HexBytes('0xf7d38f7c05a072d4d293315cc7b9dcc5adb40c7dd45423f48db911c3d37424e1'),\n",
       "  HexBytes('0xbd2665f2e0f182cd487bd8d0ac16330c265b8f7f0f558f29d96b5aaf955c03f9'),\n",
       "  HexBytes('0x80e6895a7cf0df91f1fe9f4f6dc98189094eaf608f5001c502bfd08e902b8937'),\n",
       "  HexBytes('0xb5b256c8e267662be12fb428d9edcc61d5b9c4d13b69f4dbeeb512f5151de074'),\n",
       "  HexBytes('0x009aae2f785d943bca671587509a0da31d09bb27c2672d32cce38ee32959cb66'),\n",
       "  HexBytes('0xa124d08788edc0cad9ca5ec197083c8bd29f9a238b33efd090f2a9e16c6c0d1e'),\n",
       "  HexBytes('0x1a3228f24535b181efe3bc2598fc3a0e165f7acdd5db75f3c43ccdb6a5690385'),\n",
       "  HexBytes('0xf2f822233d1f8198cff101efe98c355c12dab0a10ff3ad14e191cc0403768fc6'),\n",
       "  HexBytes('0x969754a4faf851526981b45c4e90e16f800326f6ceb6989c8c6a75d49db5daa6'),\n",
       "  HexBytes('0xb7c397dca173c78ee233df1926c78e43ec97cb36f3307a4545c3e1d452c00afb'),\n",
       "  HexBytes('0x85d736ac60a8bc105d4d16a6e29e9343c5b7797806d55f2505fb1c1b825a7d27'),\n",
       "  HexBytes('0xcc0fe957a892ba91f37314c2a717f88ae11fa3554de0fe3ce23d7c5257990217'),\n",
       "  HexBytes('0xaba27a0872639e4dc4a368e03b7484f5282959f6a9e2ff094e6804cfab4a6f46'),\n",
       "  HexBytes('0x0f826b780457a92e02324d783cf9d060a51e1917e3b35b37b7d52935e04f42ab'),\n",
       "  HexBytes('0x58ce2b33a76e26fe95ad0ea237610c71a51960b5b3cf5f590914aacf0206e81b'),\n",
       "  HexBytes('0xb51c523e94c02d101922de64d809456d438ed5575fe926f8245a223bb2fdadaa'),\n",
       "  HexBytes('0xda5e100579ad85d0403e5750c36b474e04e007c764987f506502cbd0f7aecd56'),\n",
       "  HexBytes('0x180033d77351b6f0d087b972626bef2cba4fac30734151273970a5a937d281b3'),\n",
       "  HexBytes('0x80908ae36ee341aceca248dc49f8302b694f6ec417e15b4e1608036ceb1f9b38'),\n",
       "  HexBytes('0x62178595802cb5de2de7f2b6e0bca3d4ebd514c45aa2f17db5c1f98990e8272c'),\n",
       "  HexBytes('0x367b39e6b3aa8f2c35a0dc4d49245702f934814d30888bd756960baa9504e79f'),\n",
       "  HexBytes('0x1d1d8901169571f3500415f8ed15c2342939a5999d57da5751f866c411eb15a1'),\n",
       "  HexBytes('0x5b4ad21f1b9228906f26289e6a343e01e90ffe737947643b39c67aad3539a655'),\n",
       "  HexBytes('0x931908c89cecfdebd9c13ec99daf2cc10e94571442a3f04817ec5a2214e5d3c5'),\n",
       "  HexBytes('0x5158a64d87a680fb74caa760d3841694994c565410f61081c08b8865ebde3469'),\n",
       "  HexBytes('0xa072d7be3b5edb62e37ab004b141dcc2b619c1de4bad57c9975dbb07408b8286'),\n",
       "  HexBytes('0x7ec315a3e57ee3213e99969aa6ed103831e08ffd08acf1ef1c5677f67217efbc'),\n",
       "  HexBytes('0x7440be4c24196e0e739163d8866280bed51a4a1196383c853de848c7bfe4bf8b'),\n",
       "  HexBytes('0xb4830f2e12af6d26da3daaf861aa866b10949dad94842f038ba89a1da6f723e3'),\n",
       "  HexBytes('0x9fb9e3b0226741c8f55d9a98a33130760d36d85569bd013deaa1ad6fbe24f51e'),\n",
       "  HexBytes('0x50f64808fb509ecc86abb4b9a1de2e2da7a286fd74589e2ca7a21202baf0dd35'),\n",
       "  HexBytes('0x452a3a141dc483eede3ee890deadecf508726c6a146bca44dfe94fdf99e92610'),\n",
       "  HexBytes('0xf32663bccf9e735efe53d90f6e427230d91471ad50e63560dd1a2ea32639ae5b'),\n",
       "  HexBytes('0xd1e5cf8eb6bb81e72e74dccb3f09bafe1b4d28cbde676f1b33981c5a526f0016'),\n",
       "  HexBytes('0x67bd5a6a6b242eccd23aec9337468a016cad083ee6f5528e7e54a68a87c9b5c1'),\n",
       "  HexBytes('0x8322e7fea88589c485c8f84cd5e603c3a3e1a5b6009513929d49bffe71c0ab3c'),\n",
       "  HexBytes('0x08ae702393b414014d02676f86c235db49ca356f7bf05dd17248d611441a1d0a'),\n",
       "  HexBytes('0xa818ea2e038ecc7fdbe628411431927213ebd2990d7696e4dc166475bee8efe8'),\n",
       "  HexBytes('0xb389975b07b050895082dd69abdb98c0a0f9b9bfe624aba1e2d35ebaa3fd09b6'),\n",
       "  HexBytes('0xbe572abb065a58b3d5ab5dc033e32926a3b1923ab35bf169057d2d0914245c99'),\n",
       "  HexBytes('0xce5206590aa3f7ee8f86b26bf76ab2137cace0f69f490818faecb86ed640724b'),\n",
       "  HexBytes('0x60005c97055edda0dee9b0129f656386ec62e56eb482fbbc1c3014afa6b6b5ea'),\n",
       "  HexBytes('0x3b06fda145db7a9b62b29b63cc0b1d9b15d624b5d21489c0107901f04913e3a9'),\n",
       "  HexBytes('0xe14b7ce37a2d723e62515b36152732066c780d3d8ebcdbb8dba2d24d9e87a672'),\n",
       "  HexBytes('0x16715bcac47ab39a611d5c82e5f878093775e71a405ba683300e48eecce1c499'),\n",
       "  HexBytes('0x026b67ad250fb15b0d26b8e5fd9f15986958ff85eddcc564ec432ef2c54e3225'),\n",
       "  HexBytes('0x10f4e2cc4a29cebc3bf5d9700ee356ef706114ce97a856a1ce40a8deeb65c7db'),\n",
       "  HexBytes('0xef6302b8d91c84e76bba4eb5277561f8ba365ad34aac98fc94795198aac50580'),\n",
       "  HexBytes('0xe51cf1a58f8c43720957e7ba8c2b162f609a9897bb1618f073d7f7b757961262'),\n",
       "  HexBytes('0x6e32d94a21616988708b3376a2e961aec8f2ecfdcdc15e44e24bbe852ed75a8e'),\n",
       "  HexBytes('0x7e72c9763c549b715f3246211e5f6aab9ce33cc31615d73d602189641ee4418e'),\n",
       "  HexBytes('0x30be06cc3b3688f1f9b1887f6d46ee0d3993fea016de061ba09cb8ef67b93223'),\n",
       "  HexBytes('0x0184ea497cf5a1d9fea5516bc7443527db14ad6f5df4ac6c69cc43dff9aa99c9')],\n",
       " 'transactionsRoot': HexBytes('0xf2e4fe3f2c90f0c3af2b736a389a8ce8048f87a26f5cb1dd3247e71a130770de'),\n",
       " 'uncles': []})"
      ]
     },
     "execution_count": 6,
     "metadata": {},
     "output_type": "execute_result"
    }
   ],
   "source": [
    "w3.eth.getBlock('latest')"
   ]
  },
  {
   "cell_type": "code",
   "execution_count": 7,
   "id": "22f61f86",
   "metadata": {},
   "outputs": [
    {
     "data": {
      "text/plain": [
       "Decimal('0.063049112379370855')"
      ]
     },
     "execution_count": 7,
     "metadata": {},
     "output_type": "execute_result"
    }
   ],
   "source": [
    "w3.eth.getBalance('0x9C43CeF371b6F1e66C4C578E8855653ea179Bd0D')\n",
    "w3.fromWei(63049112379370855, 'ether')"
   ]
  },
  {
   "cell_type": "code",
   "execution_count": 8,
   "id": "29c83f74",
   "metadata": {},
   "outputs": [],
   "source": [
    "import json\n",
    "\n",
    "ABI = json.loads('[{\"constant\":true,\"inputs\":[{\"name\":\"_owner\",\"type\":\"address\"}],\"name\":\"balanceOf\", \"outputs\":[{\"name\":\"\",\"type\":\"uint256\"}],\"payable\":false,\"stateMutability\":\"view\",\"type\":\"function\"}]')\n"
   ]
  },
  {
   "cell_type": "code",
   "execution_count": 9,
   "id": "ef7c60d1",
   "metadata": {},
   "outputs": [
    {
     "name": "stdout",
     "output_type": "stream",
     "text": [
      "5247.2901776537965\n"
     ]
    }
   ],
   "source": [
    "#Defining wallet_address as Charlie's wallet address\n",
    "wallet_address = '0x9C43CeF371b6F1e66C4C578E8855653ea179Bd0D'\n",
    "wallet_address = Web3.toChecksumAddress(wallet_address)\n",
    "\n",
    "#Defining token_contract_address as the Frax smart contract address\n",
    "token_contract_address = '0xc8418aF6358FFddA74e09Ca9CC3Fe03Ca6aDC5b0'\n",
    "token_contract_address = Web3.toChecksumAddress(token_contract_address)\n",
    "\n",
    "# define contract\n",
    "contract = w3.eth.contract(token_contract_address, abi=ABI)\n",
    "\n",
    "# call contract and get data from balanceOf for argument wallet_address\n",
    "raw_balance = contract.functions.balanceOf(wallet_address).call()\n",
    "\n",
    "# convert the value from Wei to Ether\n",
    "vefxs_value = float(Web3.fromWei(raw_balance, 'ether'))\n",
    "\n",
    "print(vefxs_value)"
   ]
  },
  {
   "cell_type": "code",
   "execution_count": 12,
   "id": "b04c690e",
   "metadata": {},
   "outputs": [
    {
     "name": "stdout",
     "output_type": "stream",
     "text": [
      "The  APY is 17.44039798296775%\n"
     ]
    }
   ],
   "source": [
    "#To calculate APY using figures collected from above\n",
    "\n",
    "def ror (principle, amount, time): \n",
    "    rate = (((amount/principle) ** (1/time)) - 1) * 100\n",
    "    print(\"The  APY is \" + str(rate) + \"%\")\n",
    "    \n",
    "ror(2000, vefxs_value, 6)"
   ]
  },
  {
   "cell_type": "code",
   "execution_count": null,
   "id": "45243850",
   "metadata": {},
   "outputs": [],
   "source": []
  },
  {
   "cell_type": "code",
   "execution_count": null,
   "id": "8bd15b95",
   "metadata": {},
   "outputs": [],
   "source": []
  }
 ],
 "metadata": {
  "kernelspec": {
   "display_name": "Python 3 (ipykernel)",
   "language": "python",
   "name": "python3"
  },
  "language_info": {
   "codemirror_mode": {
    "name": "ipython",
    "version": 3
   },
   "file_extension": ".py",
   "mimetype": "text/x-python",
   "name": "python",
   "nbconvert_exporter": "python",
   "pygments_lexer": "ipython3",
   "version": "3.10.4"
  }
 },
 "nbformat": 4,
 "nbformat_minor": 5
}
